{
 "cells": [
  {
   "cell_type": "markdown",
   "metadata": {},
   "source": [
    "# Résultats"
   ]
  },
  {
   "cell_type": "code",
   "execution_count": 1,
   "metadata": {},
   "outputs": [],
   "source": [
    "import torch\n",
    "import matplotlib.pyplot as plt\n",
    "\n",
    "def display_images(imgs):\n",
    "    c = imgs.shape[0]\n",
    "    r = 1\n",
    "    fig, axs = plt.subplots(r, c, figsize=(10, 10))\n",
    "    \n",
    "    if c == 1:\n",
    "        axs = [axs]\n",
    "\n",
    "    for j in range(c):\n",
    "        # black and white images\n",
    "        img = imgs[j]\n",
    "        if torch.is_tensor(img):\n",
    "            img = img[0, :, :].detach().numpy()\n",
    "        else:\n",
    "            img = img[0, :, :]\n",
    "        \n",
    "        im = axs[j].imshow(img, cmap='gray')\n",
    "        \n",
    "        # Ajouter une bordure à l'image\n",
    "        for spine in axs[j].spines.values():\n",
    "            spine.set_visible(True)\n",
    "            spine.set_color('black')\n",
    "            spine.set_linewidth(1)\n",
    "        \n",
    "        # Supprimer les ticks des axes sans enlever la bordure\n",
    "        axs[j].set_xticks([])\n",
    "        axs[j].set_yticks([])\n",
    "    \n",
    "    plt.tight_layout()  # Ajuste l'espacement automatiquement\n",
    "    plt.show()\n"
   ]
  },
  {
   "cell_type": "markdown",
   "metadata": {},
   "source": [
    "## 4 Etude sur Binary Alpha Digit"
   ]
  },
  {
   "cell_type": "markdown",
   "metadata": {},
   "source": [
    "### RBM"
   ]
  },
  {
   "cell_type": "code",
   "execution_count": 109,
   "metadata": {},
   "outputs": [
    {
     "name": "stdout",
     "output_type": "stream",
     "text": [
      "Dataset loaded successfully.\n",
      "Epoch 0: MSE = 0.217142\n",
      "Epoch 100: MSE = 0.099786\n",
      "Epoch 200: MSE = 0.068817\n",
      "Epoch 300: MSE = 0.050887\n",
      "Epoch 400: MSE = 0.038549\n",
      "Epoch 500: MSE = 0.029566\n",
      "Epoch 600: MSE = 0.023020\n",
      "Epoch 700: MSE = 0.018316\n",
      "Epoch 800: MSE = 0.014765\n",
      "Epoch 900: MSE = 0.012099\n",
      "Epoch 1000: MSE = 0.010101\n",
      "Epoch 1100: MSE = 0.008422\n",
      "Epoch 1200: MSE = 0.007168\n",
      "Epoch 1300: MSE = 0.006145\n",
      "Epoch 1400: MSE = 0.005373\n",
      "Epoch 1500: MSE = 0.004711\n",
      "Epoch 1600: MSE = 0.004149\n",
      "Epoch 1700: MSE = 0.003730\n",
      "Epoch 1800: MSE = 0.003340\n",
      "Epoch 1900: MSE = 0.003010\n",
      "Epoch 2000: MSE = 0.002729\n",
      "Epoch 2100: MSE = 0.002505\n",
      "Epoch 2200: MSE = 0.002261\n",
      "Epoch 2300: MSE = 0.002084\n",
      "Epoch 2400: MSE = 0.001918\n",
      "Epoch 2500: MSE = 0.001746\n",
      "Epoch 2600: MSE = 0.001618\n",
      "Epoch 2700: MSE = 0.001483\n",
      "Epoch 2800: MSE = 0.001377\n",
      "Epoch 2900: MSE = 0.001289\n",
      "Epoch 3000: MSE = 0.001204\n",
      "Epoch 3100: MSE = 0.001124\n",
      "Epoch 3200: MSE = 0.001058\n",
      "Epoch 3300: MSE = 0.000989\n",
      "Epoch 3400: MSE = 0.000935\n",
      "Epoch 3500: MSE = 0.000881\n",
      "Epoch 3600: MSE = 0.000830\n",
      "Epoch 3700: MSE = 0.000784\n",
      "Epoch 3800: MSE = 0.000745\n",
      "Epoch 3900: MSE = 0.000711\n",
      "Epoch 4000: MSE = 0.000669\n",
      "Epoch 4100: MSE = 0.000638\n",
      "Epoch 4200: MSE = 0.000611\n",
      "Epoch 4300: MSE = 0.000583\n",
      "Epoch 4400: MSE = 0.000555\n",
      "Epoch 4500: MSE = 0.000530\n",
      "Epoch 4600: MSE = 0.000505\n",
      "Epoch 4700: MSE = 0.000485\n",
      "Epoch 4800: MSE = 0.000464\n",
      "Epoch 4900: MSE = 0.000444\n",
      "Epoch 5000: MSE = 0.000424\n",
      "Epoch 5100: MSE = 0.000409\n",
      "Epoch 5200: MSE = 0.000388\n",
      "Epoch 5300: MSE = 0.000373\n",
      "Epoch 5400: MSE = 0.000358\n",
      "Epoch 5500: MSE = 0.000342\n",
      "Epoch 5600: MSE = 0.000330\n",
      "Epoch 5700: MSE = 0.000317\n",
      "Epoch 5800: MSE = 0.000305\n",
      "Epoch 5900: MSE = 0.000294\n",
      "Epoch 6000: MSE = 0.000286\n",
      "Epoch 6100: MSE = 0.000272\n",
      "Epoch 6200: MSE = 0.000263\n",
      "Epoch 6300: MSE = 0.000253\n",
      "Epoch 6400: MSE = 0.000245\n",
      "Epoch 6500: MSE = 0.000238\n",
      "Epoch 6600: MSE = 0.000229\n",
      "Epoch 6700: MSE = 0.000223\n",
      "Epoch 6800: MSE = 0.000217\n",
      "Epoch 6900: MSE = 0.000209\n",
      "Epoch 7000: MSE = 0.000202\n",
      "Epoch 7100: MSE = 0.000195\n",
      "Epoch 7200: MSE = 0.000190\n",
      "Epoch 7300: MSE = 0.000185\n",
      "Epoch 7400: MSE = 0.000179\n",
      "Epoch 7500: MSE = 0.000175\n",
      "Epoch 7600: MSE = 0.000168\n",
      "Epoch 7700: MSE = 0.000165\n",
      "Epoch 7800: MSE = 0.000160\n",
      "Epoch 7900: MSE = 0.000155\n",
      "Epoch 8000: MSE = 0.000152\n",
      "Epoch 8100: MSE = 0.000148\n",
      "Epoch 8200: MSE = 0.000144\n",
      "Epoch 8300: MSE = 0.000142\n",
      "Epoch 8400: MSE = 0.000137\n",
      "Epoch 8500: MSE = 0.000135\n",
      "Epoch 8600: MSE = 0.000131\n",
      "Epoch 8700: MSE = 0.000128\n",
      "Epoch 8800: MSE = 0.000124\n",
      "Epoch 8900: MSE = 0.000121\n",
      "Epoch 9000: MSE = 0.000118\n",
      "Epoch 9100: MSE = 0.000115\n",
      "Epoch 9200: MSE = 0.000113\n",
      "Epoch 9300: MSE = 0.000111\n",
      "Epoch 9400: MSE = 0.000109\n",
      "Epoch 9500: MSE = 0.000107\n",
      "Epoch 9600: MSE = 0.000105\n",
      "Epoch 9700: MSE = 0.000102\n",
      "Epoch 9800: MSE = 0.000099\n",
      "Epoch 9900: MSE = 0.000097\n"
     ]
    },
    {
     "data": {
      "image/png": "[encoded data removed]",
      "text/plain": [
       "<Figure size 1000x1000 with 5 Axes>"
      ]
     },
     "metadata": {},
     "output_type": "display_data"
    }
   ],
   "source": [
    "import numpy as np\n",
    "import matplotlib.pyplot as plt\n",
    "from load_data import lire_alpha_digit\n",
    "from Rbm import RBM\n",
    "from Dbn import DBN\n",
    "\n",
    "characters = [\"n\", \"f\", \"a\", \"z\", \"b\", \"x\", \"h\", \"k\"]\n",
    "\n",
    "# We consider only one character for now\n",
    "images = lire_alpha_digit(characters[0])\n",
    "\n",
    "p = images.shape[1]\n",
    "hidden_rbm = 128\n",
    "epochs_rbm = 10000\n",
    "batch_size = 16\n",
    "lr_rbm = 0.01\n",
    "\n",
    "rbm = RBM(p, hidden_rbm)\n",
    "rbm.train(images, epochs_rbm, batch_size, lr_rbm, verbose=True)\n",
    "\n",
    "generated_rbm = rbm.generate(5).reshape(5, 1, 20, 16)\n",
    "display_images(generated_rbm)"
   ]
  },
  {
   "cell_type": "code",
   "execution_count": 111,
   "metadata": {},
   "outputs": [
    {
     "name": "stdout",
     "output_type": "stream",
     "text": [
      "Dataset loaded successfully.\n",
      "Epoch 0: MSE = 0.218441\n",
      "Epoch 100: MSE = 0.102657\n",
      "Epoch 200: MSE = 0.076594\n",
      "Epoch 300: MSE = 0.060762\n",
      "Epoch 400: MSE = 0.049394\n",
      "Epoch 500: MSE = 0.040627\n",
      "Epoch 600: MSE = 0.033922\n",
      "Epoch 700: MSE = 0.028428\n",
      "Epoch 800: MSE = 0.024013\n",
      "Epoch 900: MSE = 0.020474\n",
      "Epoch 1000: MSE = 0.017599\n",
      "Epoch 1100: MSE = 0.015206\n",
      "Epoch 1200: MSE = 0.013283\n",
      "Epoch 1300: MSE = 0.011646\n",
      "Epoch 1400: MSE = 0.010296\n",
      "Epoch 1500: MSE = 0.009145\n",
      "Epoch 1600: MSE = 0.008194\n",
      "Epoch 1700: MSE = 0.007372\n",
      "Epoch 1800: MSE = 0.006653\n",
      "Epoch 1900: MSE = 0.006034\n",
      "Epoch 2000: MSE = 0.005493\n",
      "Epoch 2100: MSE = 0.005019\n",
      "Epoch 2200: MSE = 0.004616\n",
      "Epoch 2300: MSE = 0.004219\n",
      "Epoch 2400: MSE = 0.003882\n",
      "Epoch 2500: MSE = 0.003583\n",
      "Epoch 2600: MSE = 0.003326\n",
      "Epoch 2700: MSE = 0.003089\n",
      "Epoch 2800: MSE = 0.002869\n",
      "Epoch 2900: MSE = 0.002674\n",
      "Epoch 3000: MSE = 0.002494\n",
      "Epoch 3100: MSE = 0.002326\n",
      "Epoch 3200: MSE = 0.002183\n",
      "Epoch 3300: MSE = 0.002061\n",
      "Epoch 3400: MSE = 0.001939\n",
      "Epoch 3500: MSE = 0.001839\n",
      "Epoch 3600: MSE = 0.001741\n",
      "Epoch 3700: MSE = 0.001648\n",
      "Epoch 3800: MSE = 0.001557\n",
      "Epoch 3900: MSE = 0.001481\n",
      "Epoch 4000: MSE = 0.001412\n",
      "Epoch 4100: MSE = 0.001341\n",
      "Epoch 4200: MSE = 0.001270\n",
      "Epoch 4300: MSE = 0.001213\n",
      "Epoch 4400: MSE = 0.001161\n",
      "Epoch 4500: MSE = 0.001109\n",
      "Epoch 4600: MSE = 0.001065\n",
      "Epoch 4700: MSE = 0.001013\n",
      "Epoch 4800: MSE = 0.000974\n",
      "Epoch 4900: MSE = 0.000938\n",
      "Epoch 5000: MSE = 0.000896\n",
      "Epoch 5100: MSE = 0.000865\n",
      "Epoch 5200: MSE = 0.000826\n",
      "Epoch 5300: MSE = 0.000798\n",
      "Epoch 5400: MSE = 0.000769\n",
      "Epoch 5500: MSE = 0.000740\n",
      "Epoch 5600: MSE = 0.000716\n",
      "Epoch 5700: MSE = 0.000689\n",
      "Epoch 5800: MSE = 0.000664\n",
      "Epoch 5900: MSE = 0.000641\n",
      "Epoch 6000: MSE = 0.000618\n",
      "Epoch 6100: MSE = 0.000597\n",
      "Epoch 6200: MSE = 0.000578\n",
      "Epoch 6300: MSE = 0.000558\n",
      "Epoch 6400: MSE = 0.000541\n",
      "Epoch 6500: MSE = 0.000527\n",
      "Epoch 6600: MSE = 0.000510\n",
      "Epoch 6700: MSE = 0.000496\n",
      "Epoch 6800: MSE = 0.000482\n",
      "Epoch 6900: MSE = 0.000465\n",
      "Epoch 7000: MSE = 0.000453\n",
      "Epoch 7100: MSE = 0.000439\n",
      "Epoch 7200: MSE = 0.000428\n",
      "Epoch 7300: MSE = 0.000415\n",
      "Epoch 7400: MSE = 0.000405\n",
      "Epoch 7500: MSE = 0.000394\n",
      "Epoch 7600: MSE = 0.000383\n",
      "Epoch 7700: MSE = 0.000375\n",
      "Epoch 7800: MSE = 0.000366\n",
      "Epoch 7900: MSE = 0.000357\n",
      "Epoch 8000: MSE = 0.000347\n",
      "Epoch 8100: MSE = 0.000338\n",
      "Epoch 8200: MSE = 0.000330\n",
      "Epoch 8300: MSE = 0.000322\n",
      "Epoch 8400: MSE = 0.000313\n",
      "Epoch 8500: MSE = 0.000306\n",
      "Epoch 8600: MSE = 0.000299\n",
      "Epoch 8700: MSE = 0.000292\n",
      "Epoch 8800: MSE = 0.000286\n",
      "Epoch 8900: MSE = 0.000280\n",
      "Epoch 9000: MSE = 0.000272\n",
      "Epoch 9100: MSE = 0.000266\n",
      "Epoch 9200: MSE = 0.000261\n",
      "Epoch 9300: MSE = 0.000257\n",
      "Epoch 9400: MSE = 0.000252\n",
      "Epoch 9500: MSE = 0.000245\n",
      "Epoch 9600: MSE = 0.000240\n",
      "Epoch 9700: MSE = 0.000235\n",
      "Epoch 9800: MSE = 0.000229\n",
      "Epoch 9900: MSE = 0.000225\n"
     ]
    },
    {
     "data": {
      "image/png": "[encoded data removed]",
      "text/plain": [
       "<Figure size 1000x1000 with 5 Axes>"
      ]
     },
     "metadata": {},
     "output_type": "display_data"
    }
   ],
   "source": [
    "# with 2 characters\n",
    "images = lire_alpha_digit(characters[0:2])\n",
    "\n",
    "p = images.shape[1]\n",
    "rbm = RBM(p, hidden_rbm)\n",
    "rbm.train(images, epochs_rbm, batch_size, lr_rbm, verbose=True)\n",
    "\n",
    "generated_rbm = rbm.generate(5).reshape(5, 1, 20, 16)\n",
    "display_images(generated_rbm)"
   ]
  },
  {
   "cell_type": "code",
   "execution_count": 113,
   "metadata": {},
   "outputs": [
    {
     "name": "stdout",
     "output_type": "stream",
     "text": [
      "Dataset loaded successfully.\n",
      "Epoch 0: MSE = 0.221156\n",
      "Epoch 100: MSE = 0.097758\n",
      "Epoch 200: MSE = 0.072134\n",
      "Epoch 300: MSE = 0.057572\n",
      "Epoch 400: MSE = 0.047316\n",
      "Epoch 500: MSE = 0.039719\n",
      "Epoch 600: MSE = 0.033737\n",
      "Epoch 700: MSE = 0.028993\n",
      "Epoch 800: MSE = 0.025171\n",
      "Epoch 900: MSE = 0.022019\n",
      "Epoch 1000: MSE = 0.019386\n",
      "Epoch 1100: MSE = 0.017159\n",
      "Epoch 1200: MSE = 0.015271\n",
      "Epoch 1300: MSE = 0.013716\n",
      "Epoch 1400: MSE = 0.012336\n",
      "Epoch 1500: MSE = 0.011136\n",
      "Epoch 1600: MSE = 0.010148\n",
      "Epoch 1700: MSE = 0.009198\n",
      "Epoch 1800: MSE = 0.008418\n",
      "Epoch 1900: MSE = 0.007719\n",
      "Epoch 2000: MSE = 0.007096\n",
      "Epoch 2100: MSE = 0.006543\n",
      "Epoch 2200: MSE = 0.006076\n",
      "Epoch 2300: MSE = 0.005626\n",
      "Epoch 2400: MSE = 0.005216\n",
      "Epoch 2500: MSE = 0.004864\n",
      "Epoch 2600: MSE = 0.004568\n",
      "Epoch 2700: MSE = 0.004255\n",
      "Epoch 2800: MSE = 0.003991\n",
      "Epoch 2900: MSE = 0.003759\n",
      "Epoch 3000: MSE = 0.003525\n",
      "Epoch 3100: MSE = 0.003332\n",
      "Epoch 3200: MSE = 0.003159\n",
      "Epoch 3300: MSE = 0.002984\n",
      "Epoch 3400: MSE = 0.002828\n",
      "Epoch 3500: MSE = 0.002676\n",
      "Epoch 3600: MSE = 0.002546\n",
      "Epoch 3700: MSE = 0.002419\n",
      "Epoch 3800: MSE = 0.002303\n",
      "Epoch 3900: MSE = 0.002204\n",
      "Epoch 4000: MSE = 0.002094\n",
      "Epoch 4100: MSE = 0.002004\n",
      "Epoch 4200: MSE = 0.001912\n",
      "Epoch 4300: MSE = 0.001835\n",
      "Epoch 4400: MSE = 0.001753\n",
      "Epoch 4500: MSE = 0.001685\n",
      "Epoch 4600: MSE = 0.001616\n",
      "Epoch 4700: MSE = 0.001555\n",
      "Epoch 4800: MSE = 0.001496\n",
      "Epoch 4900: MSE = 0.001436\n",
      "Epoch 5000: MSE = 0.001388\n",
      "Epoch 5100: MSE = 0.001336\n",
      "Epoch 5200: MSE = 0.001283\n",
      "Epoch 5300: MSE = 0.001241\n",
      "Epoch 5400: MSE = 0.001194\n",
      "Epoch 5500: MSE = 0.001152\n",
      "Epoch 5600: MSE = 0.001117\n",
      "Epoch 5700: MSE = 0.001079\n",
      "Epoch 5800: MSE = 0.001043\n",
      "Epoch 5900: MSE = 0.001012\n",
      "Epoch 6000: MSE = 0.000974\n",
      "Epoch 6100: MSE = 0.000946\n",
      "Epoch 6200: MSE = 0.000917\n",
      "Epoch 6300: MSE = 0.000888\n",
      "Epoch 6400: MSE = 0.000862\n",
      "Epoch 6500: MSE = 0.000837\n",
      "Epoch 6600: MSE = 0.000814\n",
      "Epoch 6700: MSE = 0.000790\n",
      "Epoch 6800: MSE = 0.000766\n",
      "Epoch 6900: MSE = 0.000744\n",
      "Epoch 7000: MSE = 0.000724\n",
      "Epoch 7100: MSE = 0.000705\n",
      "Epoch 7200: MSE = 0.000687\n",
      "Epoch 7300: MSE = 0.000667\n",
      "Epoch 7400: MSE = 0.000650\n",
      "Epoch 7500: MSE = 0.000635\n",
      "Epoch 7600: MSE = 0.000617\n",
      "Epoch 7700: MSE = 0.000602\n",
      "Epoch 7800: MSE = 0.000585\n",
      "Epoch 7900: MSE = 0.000573\n",
      "Epoch 8000: MSE = 0.000559\n",
      "Epoch 8100: MSE = 0.000545\n",
      "Epoch 8200: MSE = 0.000531\n",
      "Epoch 8300: MSE = 0.000521\n",
      "Epoch 8400: MSE = 0.000508\n",
      "Epoch 8500: MSE = 0.000497\n",
      "Epoch 8600: MSE = 0.000486\n",
      "Epoch 8700: MSE = 0.000476\n",
      "Epoch 8800: MSE = 0.000465\n",
      "Epoch 8900: MSE = 0.000457\n",
      "Epoch 9000: MSE = 0.000445\n",
      "Epoch 9100: MSE = 0.000435\n",
      "Epoch 9200: MSE = 0.000427\n",
      "Epoch 9300: MSE = 0.000417\n",
      "Epoch 9400: MSE = 0.000409\n",
      "Epoch 9500: MSE = 0.000401\n",
      "Epoch 9600: MSE = 0.000392\n",
      "Epoch 9700: MSE = 0.000384\n",
      "Epoch 9800: MSE = 0.000378\n",
      "Epoch 9900: MSE = 0.000369\n"
     ]
    },
    {
     "data": {
      "image/png": "[encoded data removed]",
      "text/plain": [
       "<Figure size 1000x1000 with 5 Axes>"
      ]
     },
     "metadata": {},
     "output_type": "display_data"
    }
   ],
   "source": [
    "# with 4 characters\n",
    "images = lire_alpha_digit(characters[0:4])\n",
    "\n",
    "p = images.shape[1]\n",
    "rbm = RBM(p, hidden_rbm)\n",
    "rbm.train(images, epochs_rbm, batch_size, lr_rbm, verbose=True)\n",
    "\n",
    "generated_rbm = rbm.generate(5).reshape(5, 1, 20, 16)\n",
    "display_images(generated_rbm)"
   ]
  },
  {
   "cell_type": "code",
   "execution_count": 115,
   "metadata": {},
   "outputs": [
    {
     "name": "stdout",
     "output_type": "stream",
     "text": [
      "Dataset loaded successfully.\n",
      "Epoch 0: MSE = 0.218280\n",
      "Epoch 100: MSE = 0.087222\n",
      "Epoch 200: MSE = 0.063894\n",
      "Epoch 300: MSE = 0.051084\n",
      "Epoch 400: MSE = 0.042815\n",
      "Epoch 500: MSE = 0.036840\n",
      "Epoch 600: MSE = 0.032359\n",
      "Epoch 700: MSE = 0.028769\n",
      "Epoch 800: MSE = 0.025834\n",
      "Epoch 900: MSE = 0.023389\n",
      "Epoch 1000: MSE = 0.021288\n",
      "Epoch 1100: MSE = 0.019512\n",
      "Epoch 1200: MSE = 0.017913\n",
      "Epoch 1300: MSE = 0.016508\n",
      "Epoch 1400: MSE = 0.015275\n",
      "Epoch 1500: MSE = 0.014182\n",
      "Epoch 1600: MSE = 0.013215\n",
      "Epoch 1700: MSE = 0.012344\n",
      "Epoch 1800: MSE = 0.011539\n",
      "Epoch 1900: MSE = 0.010826\n",
      "Epoch 2000: MSE = 0.010177\n",
      "Epoch 2100: MSE = 0.009582\n",
      "Epoch 2200: MSE = 0.009029\n",
      "Epoch 2300: MSE = 0.008538\n",
      "Epoch 2400: MSE = 0.008067\n",
      "Epoch 2500: MSE = 0.007647\n",
      "Epoch 2600: MSE = 0.007258\n",
      "Epoch 2700: MSE = 0.006909\n",
      "Epoch 2800: MSE = 0.006565\n",
      "Epoch 2900: MSE = 0.006263\n",
      "Epoch 3000: MSE = 0.005976\n",
      "Epoch 3100: MSE = 0.005709\n",
      "Epoch 3200: MSE = 0.005443\n",
      "Epoch 3300: MSE = 0.005205\n",
      "Epoch 3400: MSE = 0.004984\n",
      "Epoch 3500: MSE = 0.004779\n",
      "Epoch 3600: MSE = 0.004600\n",
      "Epoch 3700: MSE = 0.004413\n",
      "Epoch 3800: MSE = 0.004241\n",
      "Epoch 3900: MSE = 0.004080\n",
      "Epoch 4000: MSE = 0.003926\n",
      "Epoch 4100: MSE = 0.003777\n",
      "Epoch 4200: MSE = 0.003642\n",
      "Epoch 4300: MSE = 0.003518\n",
      "Epoch 4400: MSE = 0.003401\n",
      "Epoch 4500: MSE = 0.003275\n",
      "Epoch 4600: MSE = 0.003174\n",
      "Epoch 4700: MSE = 0.003061\n",
      "Epoch 4800: MSE = 0.002964\n",
      "Epoch 4900: MSE = 0.002868\n",
      "Epoch 5000: MSE = 0.002784\n",
      "Epoch 5100: MSE = 0.002702\n",
      "Epoch 5200: MSE = 0.002620\n",
      "Epoch 5300: MSE = 0.002549\n",
      "Epoch 5400: MSE = 0.002462\n",
      "Epoch 5500: MSE = 0.002386\n",
      "Epoch 5600: MSE = 0.002327\n",
      "Epoch 5700: MSE = 0.002268\n",
      "Epoch 5800: MSE = 0.002205\n",
      "Epoch 5900: MSE = 0.002138\n",
      "Epoch 6000: MSE = 0.002081\n",
      "Epoch 6100: MSE = 0.002025\n",
      "Epoch 6200: MSE = 0.001977\n",
      "Epoch 6300: MSE = 0.001922\n",
      "Epoch 6400: MSE = 0.001878\n",
      "Epoch 6500: MSE = 0.001824\n",
      "Epoch 6600: MSE = 0.001783\n",
      "Epoch 6700: MSE = 0.001742\n",
      "Epoch 6800: MSE = 0.001703\n",
      "Epoch 6900: MSE = 0.001656\n",
      "Epoch 7000: MSE = 0.001619\n",
      "Epoch 7100: MSE = 0.001578\n",
      "Epoch 7200: MSE = 0.001545\n",
      "Epoch 7300: MSE = 0.001507\n",
      "Epoch 7400: MSE = 0.001473\n",
      "Epoch 7500: MSE = 0.001437\n",
      "Epoch 7600: MSE = 0.001409\n",
      "Epoch 7700: MSE = 0.001376\n",
      "Epoch 7800: MSE = 0.001346\n",
      "Epoch 7900: MSE = 0.001321\n",
      "Epoch 8000: MSE = 0.001290\n",
      "Epoch 8100: MSE = 0.001262\n",
      "Epoch 8200: MSE = 0.001241\n",
      "Epoch 8300: MSE = 0.001214\n",
      "Epoch 8400: MSE = 0.001192\n",
      "Epoch 8500: MSE = 0.001165\n",
      "Epoch 8600: MSE = 0.001142\n",
      "Epoch 8700: MSE = 0.001118\n",
      "Epoch 8800: MSE = 0.001098\n",
      "Epoch 8900: MSE = 0.001079\n",
      "Epoch 9000: MSE = 0.001056\n",
      "Epoch 9100: MSE = 0.001037\n",
      "Epoch 9200: MSE = 0.001019\n",
      "Epoch 9300: MSE = 0.001002\n",
      "Epoch 9400: MSE = 0.000980\n",
      "Epoch 9500: MSE = 0.000965\n",
      "Epoch 9600: MSE = 0.000945\n",
      "Epoch 9700: MSE = 0.000930\n",
      "Epoch 9800: MSE = 0.000910\n",
      "Epoch 9900: MSE = 0.000895\n"
     ]
    },
    {
     "data": {
      "image/png": "[encoded data removed]",
      "text/plain": [
       "<Figure size 1000x1000 with 5 Axes>"
      ]
     },
     "metadata": {},
     "output_type": "display_data"
    }
   ],
   "source": [
    "# with 8 characters\n",
    "images = lire_alpha_digit(characters)\n",
    "\n",
    "p = images.shape[1]\n",
    "rbm = RBM(p, hidden_rbm)\n",
    "rbm.train(images, epochs_rbm, batch_size, lr_rbm, verbose=True)\n",
    "\n",
    "generated_rbm = rbm.generate(5).reshape(5, 1, 20, 16)\n",
    "display_images(generated_rbm)"
   ]
  },
  {
   "cell_type": "markdown",
   "metadata": {},
   "source": [
    "### DBN"
   ]
  },
  {
   "cell_type": "code",
   "execution_count": 116,
   "metadata": {},
   "outputs": [
    {
     "name": "stdout",
     "output_type": "stream",
     "text": [
      "Dataset loaded successfully.\n",
      "MSE = 0.000159\n"
     ]
    },
    {
     "data": {
      "image/png": "[encoded data removed]",
      "text/plain": [
       "<Figure size 1000x1000 with 5 Axes>"
      ]
     },
     "metadata": {},
     "output_type": "display_data"
    }
   ],
   "source": [
    "# We consider only one character for now\n",
    "images = lire_alpha_digit(characters[0])\n",
    "\n",
    "p = images.shape[1]\n",
    "dbn_sizes = [p, 512, 256, 128]\n",
    "dbn = DBN(dbn_sizes)\n",
    "epochs_dbn = 20000\n",
    "batch_size_dbn = 16\n",
    "lr_dbn = 0.001\n",
    "\n",
    "dbn.train(images, epochs_dbn, batch_size_dbn, lr_dbn, verbose=True)\n",
    "\n",
    "generated_dbn = dbn.generate(5).reshape(5, 1, 20, 16)\n",
    "display_images(generated_dbn)"
   ]
  },
  {
   "cell_type": "code",
   "execution_count": 117,
   "metadata": {},
   "outputs": [
    {
     "name": "stdout",
     "output_type": "stream",
     "text": [
      "Dataset loaded successfully.\n",
      "MSE = 0.000351\n"
     ]
    },
    {
     "data": {
      "image/png": "[encoded data removed]",
      "text/plain": [
       "<Figure size 1000x1000 with 5 Axes>"
      ]
     },
     "metadata": {},
     "output_type": "display_data"
    }
   ],
   "source": [
    "# with 2 characters\n",
    "images = lire_alpha_digit(characters[0:2])\n",
    "\n",
    "p = images.shape[1]\n",
    "dbn = DBN(dbn_sizes)\n",
    "dbn.train(images, epochs_dbn, batch_size_dbn, lr_dbn, verbose=True)\n",
    "\n",
    "generated_dbn = dbn.generate(5).reshape(5, 1, 20, 16)\n",
    "display_images(generated_dbn)"
   ]
  },
  {
   "cell_type": "code",
   "execution_count": 118,
   "metadata": {},
   "outputs": [
    {
     "name": "stdout",
     "output_type": "stream",
     "text": [
      "Dataset loaded successfully.\n",
      "MSE = 0.000400\n"
     ]
    },
    {
     "data": {
      "image/png": "[encoded data removed]",
      "text/plain": [
       "<Figure size 1000x1000 with 5 Axes>"
      ]
     },
     "metadata": {},
     "output_type": "display_data"
    }
   ],
   "source": [
    "# with 4 characters\n",
    "images = lire_alpha_digit(characters[0:4])\n",
    "\n",
    "p = images.shape[1]\n",
    "dbn = DBN(dbn_sizes)\n",
    "dbn.train(images, epochs_dbn, batch_size_dbn, lr_dbn, verbose=True)\n",
    "\n",
    "generated_dbn = dbn.generate(5).reshape(5, 1, 20, 16)\n",
    "display_images(generated_dbn)"
   ]
  },
  {
   "cell_type": "code",
   "execution_count": 119,
   "metadata": {},
   "outputs": [
    {
     "name": "stdout",
     "output_type": "stream",
     "text": [
      "Dataset loaded successfully.\n",
      "MSE = 0.000422\n"
     ]
    },
    {
     "data": {
      "image/png": "[encoded data removed]",
      "text/plain": [
       "<Figure size 1000x1000 with 5 Axes>"
      ]
     },
     "metadata": {},
     "output_type": "display_data"
    }
   ],
   "source": [
    "# with 8 characters\n",
    "images = lire_alpha_digit(characters)\n",
    "\n",
    "p = images.shape[1]\n",
    "dbn = DBN(dbn_sizes)\n",
    "dbn.train(images, epochs_dbn, batch_size_dbn, lr_dbn, verbose=True)\n",
    "\n",
    "generated_dbn = dbn.generate(5).reshape(5, 1, 20, 16)\n",
    "display_images(generated_dbn)"
   ]
  },
  {
   "cell_type": "markdown",
   "metadata": {},
   "source": [
    "## 5 Etudes"
   ]
  },
  {
   "cell_type": "markdown",
   "metadata": {},
   "source": [
    "### 5.1 "
   ]
  },
  {
   "cell_type": "markdown",
   "metadata": {},
   "source": [
    "Get mnist data"
   ]
  },
  {
   "cell_type": "code",
   "execution_count": 15,
   "metadata": {},
   "outputs": [],
   "source": [
    "import numpy as np\n",
    "import torch.nn.functional as F\n",
    "\n",
    "from Dnn import DNN\n",
    "from load_data import load_mnist\n",
    "\n",
    "train_dataset, test_dataset = load_mnist()\n",
    "\n",
    "# Convert datasets to numpy arrays\n",
    "x_train = train_dataset.data.numpy().reshape(-1, 28 * 28).astype(np.float32)\n",
    "y_train = train_dataset.targets.numpy()\n",
    "x_test = test_dataset.data.numpy().reshape(-1, 28 * 28).astype(np.float32)\n",
    "y_test = test_dataset.targets.numpy()\n",
    "\n",
    "# Binarize the dataset\n",
    "x_train = (x_train >= 128).astype(np.float32)\n",
    "x_test = (x_test >= 128).astype(np.float32)\n",
    "\n",
    "# # Convert labels to one-hot encoding\n",
    "y_train = F.one_hot(torch.tensor(y_train), num_classes=10).numpy()\n",
    "y_test = F.one_hot(torch.tensor(y_test), num_classes=10).numpy()"
   ]
  },
  {
   "cell_type": "code",
   "execution_count": 20,
   "metadata": {},
   "outputs": [
    {
     "name": "stdout",
     "output_type": "stream",
     "text": [
      "Number of parameters:  665872\n",
      "MSE = 0.025644\n"
     ]
    }
   ],
   "source": [
    "sizes = [784, 512, 512, 10]\n",
    "dnn = DNN(sizes)\n",
    "\n",
    "\n",
    "print(\"Number of parameters: \", dnn.get_nb_params())\n",
    "\n",
    "# Pretraining\n",
    "epochs_pretrain = 20\n",
    "batch_size = 64\n",
    "lr_pretrain = 0.01\n",
    "dnn.pretrain(x_train, epochs_pretrain, batch_size, lr_pretrain, verbose=True)"
   ]
  },
  {
   "cell_type": "code",
   "execution_count": 21,
   "metadata": {},
   "outputs": [
    {
     "name": "stdout",
     "output_type": "stream",
     "text": [
      "0 0.3110175825593991\n",
      "1 0.25209936338398\n",
      "2 0.2263159288656269\n",
      "3 0.2107924365457212\n",
      "4 0.1998399293771342\n",
      "5 0.19214203357900247\n",
      "6 0.18571164226215353\n",
      "7 0.18070911240039284\n",
      "8 0.17659874885159682\n",
      "9 0.1732651668928028\n",
      "10 0.17019532815297503\n",
      "11 0.16745110628544851\n",
      "12 0.16531301518131308\n",
      "13 0.16318029092341158\n",
      "14 0.16122974311082244\n",
      "15 0.15948112114493496\n",
      "16 0.15808970162629288\n",
      "17 0.15684061957727105\n",
      "18 0.155328768921804\n",
      "19 0.1542981789673566\n",
      "20 0.15321156067651814\n",
      "21 0.15223923579137105\n",
      "22 0.15120153522088298\n",
      "23 0.15032277512350029\n",
      "24 0.14963074565896034\n",
      "25 0.14890832966211984\n",
      "26 0.14810618402454082\n",
      "27 0.1474924390740743\n",
      "28 0.14680925103419937\n",
      "29 0.14613574249957936\n",
      "30 0.14574926071083205\n",
      "31 0.1452453725515704\n",
      "32 0.14459495454716412\n",
      "33 0.1439992958314245\n",
      "34 0.14375000333140467\n",
      "35 0.1431158456640891\n",
      "36 0.1427476054982109\n",
      "37 0.14234177755614225\n",
      "38 0.1419315916520486\n",
      "39 0.14170795917693577\n",
      "40 0.14118323507239214\n",
      "41 0.14091332006187643\n",
      "42 0.1404715453471375\n",
      "43 0.14022743374652874\n",
      "44 0.13991646824632645\n",
      "45 0.1398129635414423\n",
      "46 0.13925064843844256\n",
      "47 0.13910737004695023\n",
      "48 0.13887070244718994\n",
      "49 0.13864004433356905\n",
      "50 0.13830923966642453\n",
      "51 0.13792444556652972\n",
      "52 0.1378400227615601\n",
      "53 0.1375075932910576\n",
      "54 0.1372378984974044\n",
      "55 0.13710629397050417\n",
      "56 0.13695834412015354\n",
      "57 0.13664918331112827\n",
      "58 0.13657617370217467\n",
      "59 0.13633615679792635\n",
      "60 0.1361184849535576\n",
      "61 0.13585450588098763\n",
      "62 0.13570699610379497\n",
      "63 0.13567556819824536\n",
      "64 0.13538041027274614\n",
      "65 0.13535753241009785\n",
      "66 0.13509980949843695\n",
      "67 0.1348895075402667\n",
      "68 0.13489293409758568\n",
      "69 0.13471179964955404\n",
      "70 0.13456230006072717\n",
      "71 0.1342989298674107\n",
      "72 0.13423370744892552\n",
      "73 0.13403299508942698\n",
      "74 0.13393483778187049\n",
      "75 0.13377140134963708\n",
      "76 0.1337684604402153\n",
      "77 0.13357893379407623\n",
      "78 0.1334066089048015\n",
      "79 0.13338192218159156\n",
      "80 0.13324507307598726\n",
      "81 0.13311655082138094\n",
      "82 0.13306613391947436\n",
      "83 0.1329680329790833\n",
      "84 0.13274803853765046\n",
      "85 0.13268229702666873\n",
      "86 0.13253977154131408\n",
      "87 0.13242545177631265\n",
      "88 0.13235767662457723\n",
      "89 0.13231091269085\n",
      "90 0.13219652129957082\n",
      "91 0.1322277785891104\n",
      "92 0.1319788792926187\n",
      "93 0.13184084625159695\n",
      "94 0.13187596665869913\n",
      "95 0.13177606097392358\n",
      "96 0.13179204742361514\n",
      "97 0.1315672598689607\n",
      "98 0.13145347156295364\n",
      "99 0.13145616926886358\n",
      "100 0.13129015906619865\n",
      "101 0.13123606115538014\n",
      "102 0.13114514584499626\n",
      "103 0.13108706980417334\n",
      "104 0.13103174558761133\n",
      "105 0.13099477271726087\n",
      "106 0.13089091347755136\n",
      "107 0.1308845953156861\n",
      "108 0.13078026532441503\n",
      "109 0.13072474368751452\n",
      "110 0.13073691158103018\n",
      "111 0.13066041004448842\n",
      "112 0.13048246744932832\n",
      "113 0.13040795376061226\n",
      "114 0.13029650476078974\n",
      "115 0.13030648038485348\n",
      "116 0.13022243707005282\n",
      "117 0.1303298092723301\n",
      "118 0.13012689414676845\n",
      "119 0.13003800913454813\n",
      "120 0.1300247326617802\n",
      "121 0.12998940952461982\n",
      "122 0.12992902399724\n",
      "123 0.12990341652286952\n",
      "124 0.12980964663399183\n",
      "125 0.12984763847989786\n",
      "126 0.12969605452381494\n",
      "127 0.12978146318212752\n",
      "128 0.12967189765048323\n",
      "129 0.12951843348605793\n",
      "130 0.12961379399587292\n",
      "131 0.12948168899373225\n",
      "132 0.1294396866087744\n",
      "133 0.12934824790259383\n",
      "134 0.12925549951655183\n",
      "135 0.12934672784380122\n",
      "136 0.12925099630651102\n",
      "137 0.12915359339545338\n",
      "138 0.12928994135336502\n",
      "139 0.12909570473908058\n",
      "140 0.12923224284238422\n",
      "141 0.12896738669815389\n",
      "142 0.12901252472417\n",
      "143 0.12890658944205013\n",
      "144 0.12888891576564038\n",
      "145 0.12882741702085532\n",
      "146 0.12874069283710465\n",
      "147 0.12870125860090983\n",
      "148 0.1287539246966361\n",
      "149 0.12869004953878435\n",
      "err dnn.test_DNN : 0.0418\n"
     ]
    }
   ],
   "source": [
    "epochs_supervised = 150\n",
    "lr_supervised = 0.1\n",
    "dnn.retropropagation(x_train, y_train, epochs_supervised, lr_supervised, batch_size, verbose=True)\n",
    "\n",
    "err = dnn.test_DNN(x_test, y_test)\n",
    "print(f\"err dnn.test_DNN : {err}\")"
   ]
  },
  {
   "cell_type": "code",
   "execution_count": null,
   "metadata": {},
   "outputs": [
    {
     "name": "stdout",
     "output_type": "stream",
     "text": [
      "err_train dnn.test_DNN : 0.0418\n",
      "0.9606833333333333\n"
     ]
    }
   ],
   "source": [
    "err_train = dnn.test_DNN(x_train, y_train)\n",
    "print(f\"err_train dnn.test_DNN : {err}\")\n",
    "print(1 - err_train)"
   ]
  },
  {
   "cell_type": "code",
   "execution_count": 23,
   "metadata": {},
   "outputs": [
    {
     "data": {
      "image/png": "[encoded data removed]",
      "text/plain": [
       "<Figure size 640x480 with 1 Axes>"
      ]
     },
     "metadata": {},
     "output_type": "display_data"
    },
    {
     "data": {
      "image/png": "[encoded data removed]",
      "text/plain": [
       "<Figure size 640x480 with 1 Axes>"
      ]
     },
     "metadata": {},
     "output_type": "display_data"
    },
    {
     "data": {
      "image/png": "[encoded data removed]",
      "text/plain": [
       "<Figure size 640x480 with 1 Axes>"
      ]
     },
     "metadata": {},
     "output_type": "display_data"
    },
    {
     "data": {
      "image/png": "[encoded data removed]",
      "text/plain": [
       "<Figure size 640x480 with 1 Axes>"
      ]
     },
     "metadata": {},
     "output_type": "display_data"
    },
    {
     "data": {
      "image/png": "[encoded data removed]",
      "text/plain": [
       "<Figure size 640x480 with 1 Axes>"
      ]
     },
     "metadata": {},
     "output_type": "display_data"
    },
    {
     "data": {
      "image/png": "[encoded data removed]",
      "text/plain": [
       "<Figure size 640x480 with 1 Axes>"
      ]
     },
     "metadata": {},
     "output_type": "display_data"
    },
    {
     "data": {
      "image/png": "[encoded data removed]",
      "text/plain": [
       "<Figure size 640x480 with 1 Axes>"
      ]
     },
     "metadata": {},
     "output_type": "display_data"
    },
    {
     "data": {
      "image/png": "[encoded data removed]",
      "text/plain": [
       "<Figure size 640x480 with 1 Axes>"
      ]
     },
     "metadata": {},
     "output_type": "display_data"
    },
    {
     "data": {
      "image/png": "[encoded data removed]",
      "text/plain": [
       "<Figure size 640x480 with 1 Axes>"
      ]
     },
     "metadata": {},
     "output_type": "display_data"
    },
    {
     "data": {
      "image/png": "[encoded data removed]",
      "text/plain": [
       "<Figure size 640x480 with 1 Axes>"
      ]
     },
     "metadata": {},
     "output_type": "display_data"
    }
   ],
   "source": [
    "n_samples = 10\n",
    "\n",
    "indices = np.random.choice(len(x_test), n_samples, replace=False)\n",
    "samples = x_test[indices]\n",
    "_, probs = dnn.entree_sortie_reseau(samples)\n",
    "\n",
    "for i in range(10):\n",
    "    plt.imshow(samples[i].reshape(28,28), cmap=\"gray\")\n",
    "    plt.title(f\"Probs: {np.round(probs[i], 3)}\")\n",
    "    plt.axis(\"off\")\n",
    "    plt.show()"
   ]
  },
  {
   "cell_type": "markdown",
   "metadata": {},
   "source": [
    "### 5.2 Analyse. "
   ]
  },
  {
   "cell_type": "code",
   "execution_count": 24,
   "metadata": {},
   "outputs": [
    {
     "name": "stdout",
     "output_type": "stream",
     "text": [
      "MSE = 0.250538\n",
      "MSE = 0.257533\n",
      "MSE = 0.256999\n"
     ]
    },
    {
     "data": {
      "image/png": "[encoded data removed]",
      "text/plain": [
       "<Figure size 640x480 with 1 Axes>"
      ]
     },
     "metadata": {},
     "output_type": "display_data"
    },
    {
     "name": "stdout",
     "output_type": "stream",
     "text": [
      "MSE = 0.250740\n",
      "MSE = 0.254439\n",
      "MSE = 0.266612\n"
     ]
    },
    {
     "data": {
      "image/png": "[encoded data removed]",
      "text/plain": [
       "<Figure size 640x480 with 1 Axes>"
      ]
     },
     "metadata": {},
     "output_type": "display_data"
    },
    {
     "name": "stdout",
     "output_type": "stream",
     "text": [
      "MSE = 0.252113\n",
      "MSE = 0.255238\n",
      "MSE = 0.251591\n",
      "MSE = 0.250539\n",
      "MSE = 0.259323\n",
      "MSE = 0.251123\n"
     ]
    },
    {
     "data": {
      "image/png": "[encoded data removed]",
      "text/plain": [
       "<Figure size 640x480 with 1 Axes>"
      ]
     },
     "metadata": {},
     "output_type": "display_data"
    }
   ],
   "source": [
    "layers_list = [[784, 256, 10], [784, 256, 256, 10], [784, 256, 256, 256, 256, 10]]\n",
    "train_err_pre, test_err_pre, train_err_rand, test_err_rand = [], [], [], []\n",
    "\n",
    "for sizes in layers_list:\n",
    "    dnn_pre = DNN(sizes)\n",
    "    dnn_rand = DNN(sizes)\n",
    "    dnn_pre.pretrain(x_train, 5, 64, 0.1, False)\n",
    "    dnn_pre.retropropagation(x_train, y_train, 20, 0.1, 64, False)\n",
    "    dnn_rand.retropropagation(x_train, y_train, 20, 0.1, 64, False)\n",
    "    train_err_pre.append(dnn_pre.test_DNN(x_train, y_train))\n",
    "    test_err_pre.append(dnn_pre.test_DNN(x_test, y_test))\n",
    "    train_err_rand.append(dnn_rand.test_DNN(x_train, y_train))\n",
    "    test_err_rand.append(dnn_rand.test_DNN(x_test, y_test))\n",
    "\n",
    "plt.plot([2,3,5], train_err_pre, marker='o', label='Pretrained, train set')\n",
    "plt.plot([2,3,5], test_err_pre, marker='o', label='Pretrained, test set')\n",
    "plt.plot([2,3,5], train_err_rand, marker='o', label='Random initialization, train set')\n",
    "plt.plot([2,3,5], test_err_rand, marker='o', label='Random initialization, test set')\n",
    "plt.xlabel('Number of Hidden Layers')\n",
    "plt.ylabel('Error Rate')\n",
    "plt.legend()\n",
    "plt.show()\n",
    "\n",
    "neurons_list = [128, 256, 1024]\n",
    "train_err_pre_n, test_err_pre_n, train_err_rand_n, test_err_rand_n = [], [], [], []\n",
    "\n",
    "for n in neurons_list:\n",
    "    dnn_pre = DNN([784, n, n, 10])\n",
    "    dnn_rand = DNN([784, n, n, 10])\n",
    "    dnn_pre.pretrain(x_train, 5, 64, 0.1, False)\n",
    "    dnn_pre.retropropagation(x_train, y_train, 20, 0.1, 64, False)\n",
    "    dnn_rand.retropropagation(x_train, y_train, 20, 0.1, 64, False)\n",
    "    train_err_pre_n.append(dnn_pre.test_DNN(x_train, y_train))\n",
    "    test_err_pre_n.append(dnn_pre.test_DNN(x_test, y_test))\n",
    "    train_err_rand_n.append(dnn_rand.test_DNN(x_train, y_train))\n",
    "    test_err_rand_n.append(dnn_rand.test_DNN(x_test, y_test))\n",
    "\n",
    "plt.plot(neurons_list, train_err_pre_n, marker='o', label='Pretrained, train set')\n",
    "plt.plot(neurons_list, test_err_pre_n, marker='o', label='Pretrained, test set')\n",
    "plt.plot(neurons_list, train_err_rand_n, marker='o', label='Random initialization, train set')\n",
    "plt.plot(neurons_list, test_err_rand_n, marker='o', label='Random initialization, test set')\n",
    "plt.xlabel('Number of Neurons per Layer')\n",
    "plt.ylabel('Error Rate')\n",
    "plt.legend()\n",
    "plt.show()\n",
    "\n",
    "data_sizes = [1000, 3000, 7000, 10000, 30000, 60000]\n",
    "train_err_pre_d, test_err_pre_d, train_err_rand_d, test_err_rand_d = [], [], [], []\n",
    "\n",
    "for d in data_sizes:\n",
    "    x_train_sub = x_train[:d]\n",
    "    y_train_sub = y_train[:d]\n",
    "    dnn_pre = DNN([784, 256, 10])\n",
    "    dnn_rand = DNN([784, 256, 10])\n",
    "    dnn_pre.pretrain(x_train_sub, 5, 64, 0.01, False)\n",
    "    dnn_pre.retropropagation(x_train_sub, y_train_sub, 20, 0.1, 64, False)\n",
    "    dnn_rand.retropropagation(x_train_sub, y_train_sub, 20, 0.1, 64, False)\n",
    "    train_err_pre_d.append(dnn_pre.test_DNN(x_train_sub, y_train_sub))\n",
    "    test_err_pre_d.append(dnn_pre.test_DNN(x_test, y_test))\n",
    "    train_err_rand_d.append(dnn_rand.test_DNN(x_train_sub, y_train_sub))\n",
    "    test_err_rand_d.append(dnn_rand.test_DNN(x_test, y_test))\n",
    "\n",
    "plt.plot(data_sizes, train_err_pre_d, marker='o', label='Pretrained, train set')\n",
    "plt.plot(data_sizes, test_err_pre_d, marker='o', label='Pretrained, test set')\n",
    "plt.plot(data_sizes, train_err_rand_d, marker='o', label='Random initialization, train set')\n",
    "plt.plot(data_sizes, test_err_rand_d, marker='o', label='Random initialization, test set')\n",
    "plt.xlabel('Size of Training Set')\n",
    "plt.ylabel('Error Rate')\n",
    "plt.legend()\n",
    "plt.show()"
   ]
  },
  {
   "cell_type": "markdown",
   "metadata": {},
   "source": [
    "# Bonus "
   ]
  },
  {
   "cell_type": "markdown",
   "metadata": {},
   "source": [
    "### Variational Autoencoder"
   ]
  },
  {
   "cell_type": "code",
   "execution_count": 27,
   "metadata": {},
   "outputs": [],
   "source": [
    "import torch\n",
    "import torch.nn as nn\n",
    "import torch.nn.functional as F\n",
    "import torch.optim as optim\n",
    "\n",
    "class VAE(torch.nn.Module ):\n",
    "  def __init__(self, x_dim, h_dim1, h_dim2, z_dim,n_rows,n_cols,n_channels):\n",
    "    super(VAE, self).__init__()\n",
    "\n",
    "    self.n_rows = n_rows\n",
    "    self.n_cols = n_cols\n",
    "    self.n_channels = n_channels\n",
    "    self.n_pixels = (self.n_rows)*(self.n_cols)\n",
    "    self.z_dim = z_dim\n",
    "\n",
    "    # encoder part\n",
    "    self.fc1 = nn.Linear(x_dim, h_dim1)\n",
    "    self.fc2 = nn.Linear(h_dim1, h_dim2)\n",
    "    self.fc31 = nn.Linear(h_dim2, z_dim)\n",
    "    self.fc32 = nn.Linear(h_dim2, z_dim)\n",
    "    # decoder part\n",
    "    self.fc4 = nn.Linear(z_dim, h_dim2)\n",
    "    self.fc5 = nn.Linear(h_dim2, h_dim1)\n",
    "    self.fc6 = nn.Linear(h_dim1, x_dim)\n",
    "\n",
    "  def encoder(self, x):\n",
    "    x = x.view(-1, self.n_pixels * self.n_channels) # Flatten the input to (Batch_size, x_dim)\n",
    "    h = F.relu(self.fc1(x))\n",
    "    h = F.relu(self.fc2(h))\n",
    "    return self.fc31(h), self.fc32(h)\n",
    "\n",
    "  def decoder(self, z):\n",
    "    h = F.relu(self.fc4(z))\n",
    "    h = F.relu(self.fc5(h))\n",
    "    return F.sigmoid(self.fc6(h)).view(-1, self.n_channels, self.n_rows, self.n_cols)\n",
    "\n",
    "  def sampling(self, mu, log_var):\n",
    "    # this function samples a Gaussian distribution, with average (mu) and standard deviation specified (using log_var)\n",
    "    std = torch.exp(0.5*log_var)\n",
    "    eps = torch.randn_like(std)\n",
    "    return eps.mul(std).add_(mu) # return z sample\n",
    "\n",
    "  def forward(self, x):\n",
    "    z_mu, z_log_var = self.encoder(x)\n",
    "    z = self.sampling(z_mu, z_log_var)\n",
    "    return self.decoder(z), z_mu, z_log_var\n",
    "\n",
    "  def loss_function(self, x, y, mu, log_var):\n",
    "    x_reshaped = x.view(-1, self.n_channels, self.n_rows, self.n_cols)\n",
    "    reconstruction_error = nn.BCELoss(reduction='sum')(y, x_reshaped)\n",
    "\n",
    "    KLD = -0.5 * torch.sum(1 + log_var - mu.pow(2) - log_var.exp()) # sum over the batch\n",
    "\n",
    "    return reconstruction_error + KLD\n",
    "  \n",
    "  def generate_images_vae(self, n_images=5):\n",
    "    epsilon = torch.randn(n_images, self.z_dim)\n",
    "    imgs_generated = self.decoder(epsilon)\n",
    "    return (imgs_generated)"
   ]
  },
  {
   "cell_type": "code",
   "execution_count": 35,
   "metadata": {},
   "outputs": [
    {
     "name": "stdout",
     "output_type": "stream",
     "text": [
      "Number of parameters: 541988\n"
     ]
    },
    {
     "name": "stderr",
     "output_type": "stream",
     "text": [
      "/var/folders/v5/_0ss5l5d6nz8d575gs5spbx40000gn/T/ipykernel_53293/831583022.py:27: UserWarning: To copy construct from a tensor, it is recommended to use sourceTensor.clone().detach() or sourceTensor.clone().detach().requires_grad_(True), rather than torch.tensor(sourceTensor).\n",
      "  x_train = torch.tensor(x_train)\n"
     ]
    },
    {
     "name": "stdout",
     "output_type": "stream",
     "text": [
      "====> Epoch: 0 Average loss: 158.9499\n",
      "====> Epoch: 1 Average loss: 113.5885\n",
      "====> Epoch: 2 Average loss: 104.6593\n",
      "====> Epoch: 3 Average loss: 100.2383\n",
      "====> Epoch: 4 Average loss: 96.8346\n",
      "====> Epoch: 5 Average loss: 94.6843\n",
      "====> Epoch: 6 Average loss: 93.2186\n",
      "====> Epoch: 7 Average loss: 92.0486\n",
      "====> Epoch: 8 Average loss: 91.0799\n",
      "====> Epoch: 9 Average loss: 90.2433\n",
      "====> Epoch: 10 Average loss: 89.5732\n",
      "====> Epoch: 11 Average loss: 88.9559\n",
      "====> Epoch: 12 Average loss: 88.4174\n",
      "====> Epoch: 13 Average loss: 87.9341\n",
      "====> Epoch: 14 Average loss: 87.5083\n",
      "====> Epoch: 15 Average loss: 87.1264\n",
      "====> Epoch: 16 Average loss: 86.8077\n",
      "====> Epoch: 17 Average loss: 86.5089\n",
      "====> Epoch: 18 Average loss: 86.1794\n",
      "====> Epoch: 19 Average loss: 85.9074\n",
      "====> Epoch: 20 Average loss: 85.7025\n",
      "====> Epoch: 21 Average loss: 85.4393\n",
      "====> Epoch: 22 Average loss: 85.2729\n",
      "====> Epoch: 23 Average loss: 85.0415\n",
      "====> Epoch: 24 Average loss: 84.8274\n",
      "====> Epoch: 25 Average loss: 84.5931\n",
      "====> Epoch: 26 Average loss: 84.5269\n",
      "====> Epoch: 27 Average loss: 84.3203\n",
      "====> Epoch: 28 Average loss: 84.2077\n",
      "====> Epoch: 29 Average loss: 84.0604\n",
      "====> Epoch: 30 Average loss: 83.9115\n",
      "====> Epoch: 31 Average loss: 83.6789\n",
      "====> Epoch: 32 Average loss: 83.5883\n",
      "====> Epoch: 33 Average loss: 83.5211\n",
      "====> Epoch: 34 Average loss: 83.4082\n",
      "====> Epoch: 35 Average loss: 83.2341\n",
      "====> Epoch: 36 Average loss: 83.0973\n",
      "====> Epoch: 37 Average loss: 83.0389\n",
      "====> Epoch: 38 Average loss: 82.9090\n",
      "====> Epoch: 39 Average loss: 82.8787\n",
      "====> Epoch: 40 Average loss: 82.7242\n",
      "====> Epoch: 41 Average loss: 82.6317\n",
      "====> Epoch: 42 Average loss: 82.5841\n",
      "====> Epoch: 43 Average loss: 82.5246\n",
      "====> Epoch: 44 Average loss: 82.4062\n",
      "====> Epoch: 45 Average loss: 82.3048\n",
      "====> Epoch: 46 Average loss: 82.2108\n",
      "====> Epoch: 47 Average loss: 82.1598\n",
      "====> Epoch: 48 Average loss: 82.0774\n",
      "====> Epoch: 49 Average loss: 82.0035\n",
      "====> Epoch: 50 Average loss: 81.9232\n",
      "====> Epoch: 51 Average loss: 81.9048\n",
      "====> Epoch: 52 Average loss: 81.7971\n",
      "====> Epoch: 53 Average loss: 81.7473\n",
      "====> Epoch: 54 Average loss: 81.6976\n",
      "====> Epoch: 55 Average loss: 81.6528\n",
      "====> Epoch: 56 Average loss: 81.5274\n",
      "====> Epoch: 57 Average loss: 81.5204\n",
      "====> Epoch: 58 Average loss: 81.4321\n",
      "====> Epoch: 59 Average loss: 81.4110\n",
      "====> Epoch: 60 Average loss: 81.3814\n",
      "====> Epoch: 61 Average loss: 81.3148\n",
      "====> Epoch: 62 Average loss: 81.2348\n",
      "====> Epoch: 63 Average loss: 81.2147\n",
      "====> Epoch: 64 Average loss: 81.1099\n",
      "====> Epoch: 65 Average loss: 81.1126\n",
      "====> Epoch: 66 Average loss: 81.0558\n",
      "====> Epoch: 67 Average loss: 80.9942\n",
      "====> Epoch: 68 Average loss: 80.9846\n",
      "====> Epoch: 69 Average loss: 80.9340\n",
      "====> Epoch: 70 Average loss: 80.8507\n",
      "====> Epoch: 71 Average loss: 80.8209\n",
      "====> Epoch: 72 Average loss: 80.8253\n",
      "====> Epoch: 73 Average loss: 80.7947\n",
      "====> Epoch: 74 Average loss: 80.6882\n",
      "====> Epoch: 75 Average loss: 80.6773\n",
      "====> Epoch: 76 Average loss: 80.6528\n",
      "====> Epoch: 77 Average loss: 80.6141\n",
      "====> Epoch: 78 Average loss: 80.5651\n",
      "====> Epoch: 79 Average loss: 80.5605\n",
      "====> Epoch: 80 Average loss: 80.4703\n",
      "====> Epoch: 81 Average loss: 80.5073\n",
      "====> Epoch: 82 Average loss: 80.4595\n",
      "====> Epoch: 83 Average loss: 80.4384\n",
      "====> Epoch: 84 Average loss: 80.3296\n",
      "====> Epoch: 85 Average loss: 80.3240\n",
      "====> Epoch: 86 Average loss: 80.3139\n",
      "====> Epoch: 87 Average loss: 80.2555\n",
      "====> Epoch: 88 Average loss: 80.2284\n",
      "====> Epoch: 89 Average loss: 80.2340\n",
      "====> Epoch: 90 Average loss: 80.1755\n",
      "====> Epoch: 91 Average loss: 80.1511\n",
      "====> Epoch: 92 Average loss: 80.1345\n",
      "====> Epoch: 93 Average loss: 80.0932\n",
      "====> Epoch: 94 Average loss: 80.0609\n",
      "====> Epoch: 95 Average loss: 79.9959\n",
      "====> Epoch: 96 Average loss: 80.0207\n",
      "====> Epoch: 97 Average loss: 79.9744\n",
      "====> Epoch: 98 Average loss: 79.9653\n",
      "====> Epoch: 99 Average loss: 79.9127\n",
      "====> Epoch: 100 Average loss: 79.8853\n",
      "====> Epoch: 101 Average loss: 79.8498\n",
      "====> Epoch: 102 Average loss: 79.8010\n",
      "====> Epoch: 103 Average loss: 79.8484\n",
      "====> Epoch: 104 Average loss: 79.7899\n",
      "====> Epoch: 105 Average loss: 79.8157\n",
      "====> Epoch: 106 Average loss: 79.7526\n",
      "====> Epoch: 107 Average loss: 79.7329\n",
      "====> Epoch: 108 Average loss: 79.6800\n",
      "====> Epoch: 109 Average loss: 79.6936\n",
      "====> Epoch: 110 Average loss: 79.6598\n",
      "====> Epoch: 111 Average loss: 79.6336\n",
      "====> Epoch: 112 Average loss: 79.5694\n",
      "====> Epoch: 113 Average loss: 79.5379\n",
      "====> Epoch: 114 Average loss: 79.5751\n",
      "====> Epoch: 115 Average loss: 79.5182\n",
      "====> Epoch: 116 Average loss: 79.5446\n",
      "====> Epoch: 117 Average loss: 79.4939\n",
      "====> Epoch: 118 Average loss: 79.4614\n",
      "====> Epoch: 119 Average loss: 79.4860\n",
      "====> Epoch: 120 Average loss: 79.4294\n",
      "====> Epoch: 121 Average loss: 79.4224\n",
      "====> Epoch: 122 Average loss: 79.4183\n",
      "====> Epoch: 123 Average loss: 79.3607\n",
      "====> Epoch: 124 Average loss: 79.3775\n",
      "====> Epoch: 125 Average loss: 79.2614\n",
      "====> Epoch: 126 Average loss: 79.3974\n",
      "====> Epoch: 127 Average loss: 79.3323\n",
      "====> Epoch: 128 Average loss: 79.3109\n",
      "====> Epoch: 129 Average loss: 79.2543\n",
      "====> Epoch: 130 Average loss: 79.2503\n",
      "====> Epoch: 131 Average loss: 79.2409\n",
      "====> Epoch: 132 Average loss: 79.2008\n",
      "====> Epoch: 133 Average loss: 79.2402\n",
      "====> Epoch: 134 Average loss: 79.2054\n",
      "====> Epoch: 135 Average loss: 79.2124\n",
      "====> Epoch: 136 Average loss: 79.1459\n",
      "====> Epoch: 137 Average loss: 79.1101\n",
      "====> Epoch: 138 Average loss: 79.1370\n",
      "====> Epoch: 139 Average loss: 79.1119\n",
      "====> Epoch: 140 Average loss: 79.0679\n",
      "====> Epoch: 141 Average loss: 79.0999\n",
      "====> Epoch: 142 Average loss: 79.0793\n",
      "====> Epoch: 143 Average loss: 79.0599\n",
      "====> Epoch: 144 Average loss: 79.0007\n",
      "====> Epoch: 145 Average loss: 79.0067\n",
      "====> Epoch: 146 Average loss: 78.9672\n",
      "====> Epoch: 147 Average loss: 78.9843\n",
      "====> Epoch: 148 Average loss: 79.0087\n",
      "====> Epoch: 149 Average loss: 78.9508\n"
     ]
    }
   ],
   "source": [
    "vae_model = VAE(x_dim=28*28, h_dim1=256, h_dim2=256, z_dim=10, n_rows=28, n_cols=28, n_channels=1)\n",
    "print(f\"Number of parameters: {sum(p.numel() for p in vae_model.parameters())}\")\n",
    "vae_optimizer = optim.Adam(vae_model.parameters())\n",
    "\n",
    "def train_vae(vae_model,data_train_loader,epoch, verbose=False):\n",
    "  train_loss = 0\n",
    "  for batch_idx, data in enumerate(data_train_loader):\n",
    "    vae_optimizer.zero_grad()\n",
    "\n",
    "    y, z_mu, z_log_var = vae_model(data)\n",
    "    loss_vae = vae_model.loss_function(data, y, z_mu, z_log_var)\n",
    "    loss_vae.backward()\n",
    "    train_loss += loss_vae.item()\n",
    "    vae_optimizer.step()\n",
    "\n",
    "    if batch_idx % 100==0 and verbose:\n",
    "      print('Train Epoch: {} [{}/{} ({:.0f}%)]\\tLoss: {:.6f}'.format(\n",
    "      epoch, batch_idx * len(data), len(data_train_loader.dataset),\n",
    "      100. * batch_idx / len(data_train_loader), loss_vae.item() / len(data)))\n",
    "  print('====> Epoch: {} Average loss: {:.4f}'.format(epoch, train_loss / len(data_train_loader.dataset)))\n",
    "\n",
    "\n",
    "# load data\n",
    "from torch.utils.data import DataLoader\n",
    "\n",
    "x_train = torch.tensor(x_train)\n",
    "mnist_train_loader = DataLoader(x_train, batch_size=64, shuffle=True)\n",
    "\n",
    "# now train the model\n",
    "for epoch in range(0, 150):\n",
    "  train_vae(vae_model,mnist_train_loader,epoch)"
   ]
  },
  {
   "cell_type": "code",
   "execution_count": 53,
   "metadata": {},
   "outputs": [
    {
     "data": {
      "image/png": "[encoded data removed]",
      "text/plain": [
       "<Figure size 1000x1000 with 5 Axes>"
      ]
     },
     "metadata": {},
     "output_type": "display_data"
    }
   ],
   "source": [
    "imgs_generated = vae_model.generate_images_vae(n_images=5)\n",
    "display_images(imgs_generated )"
   ]
  },
  {
   "cell_type": "markdown",
   "metadata": {},
   "source": [
    "### Diffusion"
   ]
  },
  {
   "cell_type": "markdown",
   "metadata": {},
   "source": [
    "I trained this model on colab for gpu reason, thus I put the code but no results."
   ]
  },
  {
   "cell_type": "code",
   "execution_count": null,
   "metadata": {},
   "outputs": [],
   "source": [
    "class BasicUNet(nn.Module):\n",
    "    def __init__(self, in_channels=1, out_channels=1):\n",
    "        super().__init__()\n",
    "        self.encoder = nn.Sequential(\n",
    "            nn.Conv2d(in_channels, 32, kernel_size=5, padding=2),\n",
    "            nn.MaxPool2d(kernel_size=3, stride=2, padding=1),\n",
    "            nn.Conv2d(32, 64, kernel_size=5, padding=2),\n",
    "            nn.MaxPool2d(kernel_size=3, stride=2, padding=1),\n",
    "            nn.Conv2d(64, 64, kernel_size=5, padding=2),\n",
    "        )\n",
    "\n",
    "        self.decoder = nn.Sequential(\n",
    "            nn.Conv2d(64, 64, kernel_size=5, padding=2),\n",
    "            nn.Upsample(scale_factor=2),\n",
    "            nn.Conv2d(64, 32, kernel_size=5, padding=2),\n",
    "            nn.Upsample(scale_factor=2),\n",
    "            nn.Conv2d(32, out_channels, kernel_size=5, padding=2),\n",
    "            nn.SiLU(),\n",
    "        )\n",
    "\n",
    "\n",
    "    def forward(self, x):\n",
    "        h = [] # for skip connections\n",
    "\n",
    "        # Encoder\n",
    "        for layer in self.encoder:\n",
    "            x = layer(x)\n",
    "            if isinstance(layer, nn.MaxPool2d):\n",
    "                h.append(x)\n",
    "\n",
    "        # Decoder\n",
    "        for layer in self.decoder:\n",
    "            if isinstance(layer, nn.Upsample):\n",
    "                x = layer(x + h.pop())\n",
    "            else:\n",
    "                x = layer(x)\n",
    "        return x\n",
    "\n",
    "def corrupt(x, amount):\n",
    "  \"\"\"Corrupt the input `x` by mixing it with noise according to `amount`\"\"\"\n",
    "  noise = torch.rand_like(x)\n",
    "  amount = amount.view(-1, 1, 1, 1)\n",
    "  out = (1 - amount) * x + amount * noise\n",
    "  return out"
   ]
  },
  {
   "cell_type": "code",
   "execution_count": null,
   "metadata": {},
   "outputs": [],
   "source": [
    "batch_size = 32\n",
    "train_dataloader = mnist_train_loader\n",
    "n_epochs = 10\n",
    "\n",
    "net = BasicUNet()\n",
    "print(f\"Number of parameters: {sum(p.numel() for p in net.parameters())}\")\n",
    "\n",
    "loss_fn = nn.MSELoss()\n",
    "opt = torch.optim.Adam(net.parameters(), lr=1e-3)\n",
    "\n",
    "losses = []\n",
    "for epoch in range(n_epochs):\n",
    "\n",
    "    for x in train_dataloader:\n",
    "        # Get some data and prepare the corrupted version\n",
    "        noise_amount = torch.rand(x.shape[0])\n",
    "        noisy_x =  corrupt(x, noise_amount) # Create our noisy x\n",
    "\n",
    "        # Get the model prediction\n",
    "        pred = net(noisy_x)\n",
    "\n",
    "        # Calculate the loss\n",
    "        # How close is the output to the true 'clean' x?\n",
    "        loss = loss_fn(pred, x)\n",
    "\n",
    "        # Backprop and update the params:\n",
    "        opt.zero_grad()\n",
    "        loss.backward()\n",
    "        opt.step()\n",
    "\n",
    "        # Store the loss for later\n",
    "        losses.append(loss.item())\n",
    "\n",
    "    # Print our the average of the loss values for this epoch:\n",
    "    avg_loss = sum(losses[-len(train_dataloader):])/len(train_dataloader)\n",
    "    print(f'Finished epoch {epoch}. Average loss for this epoch: {avg_loss:05f}')"
   ]
  },
  {
   "cell_type": "code",
   "execution_count": null,
   "metadata": {},
   "outputs": [],
   "source": [
    "import torchvision\n",
    "\n",
    "n_steps = 40\n",
    "x = torch.rand(64, 1, 28, 28)\n",
    "for i in range(n_steps):\n",
    "  noise_amount = torch.ones((x.shape[0], )) * (1-(i/n_steps)) # Starting high going low\n",
    "  with torch.no_grad():\n",
    "    pred = net(x)\n",
    "  mix_factor = 1/(n_steps - i)\n",
    "  x = x*(1-mix_factor) + pred*mix_factor\n",
    "fig, ax = plt.subplots(1, 1, figsize=(12, 12))\n",
    "ax.imshow(torchvision.utils.make_grid(x.detach().cpu(), nrow=8)[0].clip(0, 1), cmap='Greys')"
   ]
  },
  {
   "cell_type": "code",
   "execution_count": null,
   "metadata": {},
   "outputs": [],
   "source": [
    "# More advanced model\n",
    "from diffusers import DiffusionPipeline\n",
    "\n",
    "pipe = DiffusionPipeline.from_pretrained(\"nathanReitinger/MNIST-diffusion-threeThousandImages\")\n",
    "\n",
    "# Compter le nombre de paramètres\n",
    "param_count = sum(p.numel() for p in pipe.unet.parameters())\n",
    "print(f\"Nombre total de paramètres du modèle: {param_count:,}\")\n",
    "\n",
    "# Générer 5 images\n",
    "torch.manual_seed(42)  # Pour la reproductibilité\n",
    "images = []\n",
    "for i in range(5):\n",
    "    image = pipe().images[0]\n",
    "    images.append(image)\n",
    "\n",
    "fig, axes = plt.subplots(1, 5, figsize=(10, 10))\n",
    "for i, (ax, img) in enumerate(zip(axes, images)):\n",
    "    ax.imshow(img, cmap='gray')\n",
    "    ax.axis('off')\n",
    "plt.tight_layout()\n",
    "plt.show()"
   ]
  }
 ],
 "metadata": {
  "kernelspec": {
   "display_name": "venv-dl",
   "language": "python",
   "name": "python3"
  },
  "language_info": {
   "codemirror_mode": {
    "name": "ipython",
    "version": 3
   },
   "file_extension": ".py",
   "mimetype": "text/x-python",
   "name": "python",
   "nbconvert_exporter": "python",
   "pygments_lexer": "ipython3",
   "version": "3.11.5"
  }
 },
 "nbformat": 4,
 "nbformat_minor": 2
}
